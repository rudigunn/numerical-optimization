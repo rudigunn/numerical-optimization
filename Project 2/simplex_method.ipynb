{
 "cells": [
  {
   "cell_type": "markdown",
   "metadata": {},
   "source": [
    "# Simplex method"
   ]
  },
  {
   "cell_type": "code",
   "execution_count": 1,
   "metadata": {},
   "outputs": [],
   "source": [
    "import matplotlib.pyplot as plt\n",
    "import numpy as np"
   ]
  },
  {
   "cell_type": "code",
   "execution_count": 2,
   "metadata": {},
   "outputs": [],
   "source": [
    "def simplex_kernel(A, b, c, b_set, n_set, n = None, return_only_x = True):\n",
    "    if n is None: _, n = A.shape\n",
    "    \n",
    "    while True:\n",
    "        # Compute B and N\n",
    "        B = A[:, b_set]\n",
    "        N = A[:, n_set]\n",
    "        \n",
    "        # Compute x_B\n",
    "        x_B = np.linalg.solve(B, b)\n",
    "        \n",
    "        # Compute c_B, c_N\n",
    "        c_B = c[b_set]\n",
    "        c_N = c[n_set]\n",
    "        \n",
    "        # Compute the reduced costs\n",
    "        lag_mult = np.linalg.solve(B.T, c_B)\n",
    "        s_N = c_N - N.T @ lag_mult\n",
    "        \n",
    "        # Check for optimality\n",
    "        if all(s_N >= 0):\n",
    "            break\n",
    "        \n",
    "        # Select q\n",
    "        q_index = np.argmin(s_N)\n",
    "        q = n_set[q_index]\n",
    "        \n",
    "        # Compute direction d\n",
    "        d = np.linalg.solve(B, A[:, q])\n",
    "        \n",
    "        # Check for unboundedness\n",
    "        if all(d <= 0):\n",
    "            print(\"Unbounded problem!\")\n",
    "            return None, None\n",
    "        \n",
    "        # Select p\n",
    "        ratios = np.divide(x_B, d, out=np.full_like(x_B, np.inf), where=d > 0)\n",
    "        p_index = np.argmin(ratios)\n",
    "        p = b_set[p_index]\n",
    "        \n",
    "        # Update the sets\n",
    "        b_set[p_index] = q\n",
    "        n_set[q_index] = p\n",
    "    \n",
    "    # Compute final solution\n",
    "    final_x = np.zeros_like(c)\n",
    "    final_x[b_set] = x_B\n",
    "    \n",
    "    if return_only_x: return final_x[:n], final_x.T @ c\n",
    "    else: return final_x, b_set\n",
    "\n",
    "def simplex_zero(A, b, c):\n",
    "    m, n = A.shape\n",
    "    \n",
    "    # Add slacks\n",
    "    slacks = np.eye(m)\n",
    "    A = np.hstack((A, slacks))\n",
    "    c = np.hstack((c, np.zeros(m)))\n",
    "    \n",
    "    # Initial basic and non-basic sets\n",
    "    b_set = list(range(n, n + m))\n",
    "    n_set = list(range(n))\n",
    "\n",
    "    # Solve\n",
    "    return simplex_kernel(A, b, c, b_set, n_set, n = n)\n",
    "    \n"
   ]
  },
  {
   "cell_type": "code",
   "execution_count": 20,
   "metadata": {},
   "outputs": [],
   "source": [
    "def find_feasible_point_simplex(A, b, c):\n",
    "    m, n = A.shape\n",
    "    \n",
    "    # Phase 1. Construct the auxiliary problem\n",
    "    A_ph1 = np.hstack([A, np.eye(m)])\n",
    "    e = np.hstack([np.zeros(n), np.ones(m)])\n",
    "    \n",
    "    # Initial basic and non-basic sets for phase 1\n",
    "    b_set = list(range(n, n + m))\n",
    "    n_set = list(range(n))\n",
    "    \n",
    "    # Phase 1 simplex kernel\n",
    "    _, b_set = simplex_kernel(A_ph1, b, e, b_set, n_set, return_only_x=False)\n",
    "    \n",
    "    # Phase 2. Back to the original problem\n",
    "    n_set = [i for i in range(n+m) if i not in b_set]\n",
    "    \n",
    "    # Phase 2 simplex kernel\n",
    "    A = np.hstack((A, np.eye(m)))\n",
    "    c = np.hstack((c, np.zeros(m)))\n",
    "    return simplex_kernel(A, b, c, b_set, n_set, n=n)"
   ]
  },
  {
   "cell_type": "code",
   "execution_count": 21,
   "metadata": {},
   "outputs": [
    {
     "data": {
      "text/plain": [
       "(array([0.125, 0.   , 0.   , 0.   , 0.   , 0.   , 0.   , 0.   , 0.   ,\n",
       "        0.   ]),\n",
       " -0.25)"
      ]
     },
     "execution_count": 21,
     "metadata": {},
     "output_type": "execute_result"
    }
   ],
   "source": [
    "A= np.array([[-2,  6,  1, -4, -1,  2,  6, -5,  4,  6],\n",
    " [-4,  8,  2  ,4 ,-1 ,-4  ,2  ,1 ,-1  ,3],\n",
    " [ 4, -3,  7  ,1  ,0  ,3  ,7 ,-2  ,3  ,3],\n",
    " [ 1, -2,  7  ,2 ,-1  ,2  ,6 ,-3 ,-4 ,-3],\n",
    " [ 8, 14,  7 ,13  ,7 ,16 ,13 , 9  ,7 ,16],\n",
    " [ 3,  1,  3  ,2 ,10  ,0  ,7  ,2  ,9  ,1],\n",
    " [ 5,  1, -2  ,6  ,7  ,4  ,3 ,-1  ,0 ,-4],\n",
    " [ 6,  7,  4 ,12  ,3  ,2  ,4  ,4 ,10 ,13],\n",
    " [ 1, -5,  4  ,4  ,2 ,-1 ,-2  ,8  ,2 ,-2]]) \n",
    "b = np.array([12,  9, 22,  4,  1 , 1 ,18 , 1 ,10])\n",
    "c = np.array([-2,  1,  1,  2,  0, -3, -3,  2,  0, -2])\n",
    "\n",
    "find_feasible_point_simplex(A, b, c)"
   ]
  },
  {
   "cell_type": "markdown",
   "metadata": {},
   "source": [
    "## 2D problems"
   ]
  },
  {
   "cell_type": "code",
   "execution_count": 22,
   "metadata": {},
   "outputs": [],
   "source": [
    "def plot_feasible_set(constraint, x_low = -1, x_high = 9, y_low = -1, y_high = 9, step=0.01):\n",
    "    domain = np.mgrid[x_low:x_high:step, y_low:y_high:step]\n",
    "    x_ticks = [tick for i, tick in enumerate(domain[0,:,0]) if not i%50]\n",
    "    y_ticks = [tick for i, tick in enumerate(domain[1,0]) if not i%50]\n",
    "    domain = np.moveaxis(domain, 0,2)\n",
    "    pos_x_c = lambda x: constraint(x) * int(all(x >= 0))\n",
    "    feasible_set = np.apply_along_axis(pos_x_c, 2, domain)\n",
    "    plt.imshow(feasible_set.T)\n",
    "    plt.xticks(ticks=[i for i in np.arange(feasible_set.shape[1]) if not i%50],labels = x_ticks, fontsize=6)\n",
    "    plt.yticks(ticks=[i for i in np.arange(feasible_set.shape[0]) if not i%50], labels = y_ticks, fontsize=6)\n",
    "    plt.tick_params(top=True, labeltop=True, bottom=False, labelbottom=False)\n",
    "\n"
   ]
  },
  {
   "cell_type": "markdown",
   "metadata": {},
   "source": [
    "### Problem 1\n",
    "\n",
    "Let's consider $min \\, c x $ such that $c = (-1,1)$;   $(3, 1) x + z_1 = 2$;   $(5, 2) x + z_2 = 5$ and $z_1, z_2 \\geq 0$"
   ]
  },
  {
   "cell_type": "code",
   "execution_count": 23,
   "metadata": {},
   "outputs": [
    {
     "data": {
      "image/png": "[encoded data removed]",
      "text/plain": [
       "<Figure size 640x480 with 1 Axes>"
      ]
     },
     "metadata": {},
     "output_type": "display_data"
    }
   ],
   "source": [
    "c1 = lambda x: int(3*x[0] + x[1] <= 2)\n",
    "c2 = lambda x: int(5*x[0] + 2*x[1] <= 5)\n",
    "c = lambda x: c1(x) * c2(x)\n",
    "plot_feasible_set(c)"
   ]
  },
  {
   "cell_type": "markdown",
   "metadata": {},
   "source": [
    "As we have a linear problem, we have also linear contour lines which means that the minimum is always in the one of the vertices. Therefore, we can find the vertices, evaluate them and pick the one with lowest value.\n",
    "\n",
    "Vertices: $v_1 = (0,0), \\, v_2 = (\\frac23,0), \\, v_3 = (0,2)$\n",
    "\n",
    "Function values: $f(v_1) = 0, \\, f(v_2) = -\\frac23, \\, f(v_3) = 2$\n",
    "\n",
    "Therefore, we can clearly see that the the solution is $(\\frac23,0)$\n"
   ]
  },
  {
   "cell_type": "code",
   "execution_count": 24,
   "metadata": {},
   "outputs": [
    {
     "name": "stdout",
     "output_type": "stream",
     "text": [
      "Optimal solution: [0.66666667 0.        ]\n",
      "Optimal value: -0.6666666666666666\n"
     ]
    }
   ],
   "source": [
    "A = np.array([[3, 1], [5, 2]])\n",
    "b = np.array([2, 5])\n",
    "c = np.array([-1, 1])\n",
    "\n",
    "x, min_value = simplex_zero(A, b, c)\n",
    "print(\"Optimal solution:\", x)\n",
    "print(\"Optimal value:\", min_value)"
   ]
  },
  {
   "cell_type": "code",
   "execution_count": 26,
   "metadata": {},
   "outputs": [
    {
     "name": "stdout",
     "output_type": "stream",
     "text": [
      "Optimal solution: [0.66666667 0.        ]\n",
      "Optimal value: -0.6666666666666666\n"
     ]
    }
   ],
   "source": [
    "x, min_value = find_feasible_point_simplex(A, b, c)\n",
    "print(\"Optimal solution:\", x)\n",
    "print(\"Optimal value:\", min_value)"
   ]
  },
  {
   "cell_type": "markdown",
   "metadata": {},
   "source": [
    "### Problem 2\n",
    "\n",
    "Let's consider $min \\, c x $ such that $c = (1,-0.5)$;   $(0, 2) x + z_1 = 3$;   and $z_1 \\geq 0$"
   ]
  },
  {
   "cell_type": "code",
   "execution_count": 92,
   "metadata": {},
   "outputs": [
    {
     "data": {
      "image/png": "[encoded data removed]",
      "text/plain": [
       "<Figure size 640x480 with 1 Axes>"
      ]
     },
     "metadata": {},
     "output_type": "display_data"
    }
   ],
   "source": [
    "c1 = lambda x: int(2*x[1] <= 3)\n",
    "c = lambda x: c1(x)\n",
    "plot_feasible_set(c)"
   ]
  },
  {
   "cell_type": "markdown",
   "metadata": {},
   "source": [
    "Note that vertex $(0, 1.5)$ has both maximal feasible $y$ and minimal feasible $x$. As we need to minimize $x$ and maximize $y$ we can immediatly see that it is an optimum."
   ]
  },
  {
   "cell_type": "code",
   "execution_count": 27,
   "metadata": {},
   "outputs": [
    {
     "name": "stdout",
     "output_type": "stream",
     "text": [
      "Optimal solution: [0.  1.5]\n",
      "Optimal value: -0.75\n"
     ]
    }
   ],
   "source": [
    "A = np.array([[0, 2]])\n",
    "b = np.array([3])\n",
    "c = np.array([1, -0.5])\n",
    "\n",
    "x, min_value = simplex_zero(A, b, c)\n",
    "print(\"Optimal solution:\", x)\n",
    "print(\"Optimal value:\", min_value)"
   ]
  },
  {
   "cell_type": "code",
   "execution_count": 28,
   "metadata": {},
   "outputs": [
    {
     "name": "stdout",
     "output_type": "stream",
     "text": [
      "Optimal solution: [0.  1.5]\n",
      "Optimal value: -0.75\n"
     ]
    }
   ],
   "source": [
    "x, min_value = find_feasible_point_simplex(A, b, c)\n",
    "print(\"Optimal solution:\", x)\n",
    "print(\"Optimal value:\", min_value)"
   ]
  },
  {
   "cell_type": "markdown",
   "metadata": {},
   "source": [
    "### Problem 3\n",
    "\n",
    "Let's consider $min \\, c x $ such that $c = (-6,-2)$;   $(7, -1) x + z_1 = 5$;   $(-2, 3) x + z_2 = 0$ and $z_1, z_2 \\geq 0$"
   ]
  },
  {
   "cell_type": "code",
   "execution_count": 87,
   "metadata": {},
   "outputs": [
    {
     "data": {
      "image/png": "[encoded data removed]",
      "text/plain": [
       "<Figure size 640x480 with 1 Axes>"
      ]
     },
     "metadata": {},
     "output_type": "display_data"
    }
   ],
   "source": [
    "c1 = lambda x: int(7*x[0] - x[1] <= 5)\n",
    "c2 = lambda x: int(-2*x[0] + 3*x[1] <= 0)\n",
    "c = lambda x: c1(x) * c2(x)\n",
    "plot_feasible_set(c)"
   ]
  },
  {
   "cell_type": "markdown",
   "metadata": {},
   "source": [
    "By using the geometrical interpretation of simplex method, we start in $(0,0)$ and then make a step to the downermost vertex $(\\frac{15}{19}, \\frac{10}{19})$ (obtained by solving the linear system where both constraints are active), at that point there ar no longer directions pointing \"away\" from the function and $(\\frac{15}{19}, \\frac{10}{19})$ is therefore a local minimum. \n"
   ]
  },
  {
   "cell_type": "code",
   "execution_count": 29,
   "metadata": {},
   "outputs": [
    {
     "name": "stdout",
     "output_type": "stream",
     "text": [
      "Optimal solution: [0.78947368 0.52631579]\n",
      "Optimal value: -5.789473684210526\n"
     ]
    }
   ],
   "source": [
    "A = np.array([[7, -1], [-2, 3]])\n",
    "b = np.array([5, 0])\n",
    "c = np.array([-6, -2])\n",
    "\n",
    "x, min_value = simplex_zero(A, b, c)\n",
    "print(\"Optimal solution:\", x)\n",
    "print(\"Optimal value:\", min_value)"
   ]
  },
  {
   "cell_type": "code",
   "execution_count": 30,
   "metadata": {},
   "outputs": [
    {
     "name": "stdout",
     "output_type": "stream",
     "text": [
      "Optimal solution: [0.78947368 0.52631579]\n",
      "Optimal value: -5.789473684210526\n"
     ]
    }
   ],
   "source": [
    "x, min_value = find_feasible_point_simplex(A, b, c)\n",
    "print(\"Optimal solution:\", x)\n",
    "print(\"Optimal value:\", min_value)"
   ]
  },
  {
   "cell_type": "markdown",
   "metadata": {},
   "source": [
    "### Problem 4\n",
    "\n",
    "Let's consider $min \\, c x $ such that $c = (-8,3)$;   $(-2, 3) x + z_1 = 0$;   $(-7, 9) x + z_2 = 0$;   $(1,0) x + z_3 = 6$ and $z_1, z_2, z_3 \\geq 0$"
   ]
  },
  {
   "cell_type": "code",
   "execution_count": 88,
   "metadata": {},
   "outputs": [
    {
     "data": {
      "image/png": "[encoded data removed]",
      "text/plain": [
       "<Figure size 640x480 with 1 Axes>"
      ]
     },
     "metadata": {},
     "output_type": "display_data"
    }
   ],
   "source": [
    "c1 = lambda x: int(-2*x[0] + 3*x[1] <= 0)\n",
    "c2 = lambda x: int(-7*x[0] + 9*x[1] <= 0)\n",
    "c3 = lambda x: int(x[0] <= 6)\n",
    "c = lambda x: c1(x) * c2(x) * c3(x)\n",
    "plot_feasible_set(c)"
   ]
  },
  {
   "cell_type": "markdown",
   "metadata": {},
   "source": [
    "In this case, the solution again does not need much calculation. Note that vertex $(6, 0)$ has both maximal feasible $x$ and minimal feasible $y$. As we need to minimize $y$ and maximize $x$ we can immediatly see that it is an optimum."
   ]
  },
  {
   "cell_type": "code",
   "execution_count": 17,
   "metadata": {},
   "outputs": [
    {
     "name": "stdout",
     "output_type": "stream",
     "text": [
      "Optimal solution: [6. 0.]\n",
      "Optimal value: -48.0\n"
     ]
    }
   ],
   "source": [
    "A = np.array([[-2, 3], [-7, 9], [1, 0]])\n",
    "b = np.array([0, 0, 6])\n",
    "c = np.array([-8, 3])\n",
    "\n",
    "x, min_value = simplex_zero(A, b, c)\n",
    "print(\"Optimal solution:\", x)\n",
    "print(\"Optimal value:\", min_value)"
   ]
  },
  {
   "cell_type": "code",
   "execution_count": 31,
   "metadata": {},
   "outputs": [
    {
     "name": "stdout",
     "output_type": "stream",
     "text": [
      "Optimal solution: [0.78947368 0.52631579]\n",
      "Optimal value: -5.789473684210526\n"
     ]
    }
   ],
   "source": [
    "x, min_value = find_feasible_point_simplex(A, b, c)\n",
    "print(\"Optimal solution:\", x)\n",
    "print(\"Optimal value:\", min_value)"
   ]
  },
  {
   "cell_type": "markdown",
   "metadata": {},
   "source": [
    "### Problem 5\n",
    "\n",
    "Let's consider $min \\, c x $ such that $c = (2,-3)$;   $(4,1) x + z_1 = 4$;   $(-1,4) x + z_2 = 2$;  $(1,1) x + z_3 = 1$; $(-4,7) x + z_4 = 2$ and $z_1, z_2, z_3, z_4 \\geq 0 $"
   ]
  },
  {
   "cell_type": "code",
   "execution_count": 89,
   "metadata": {},
   "outputs": [
    {
     "data": {
      "image/png": "[encoded data removed]",
      "text/plain": [
       "<Figure size 640x480 with 1 Axes>"
      ]
     },
     "metadata": {},
     "output_type": "display_data"
    }
   ],
   "source": [
    "c1 = lambda x: int(4*x[0] + x[1] <= 4)\n",
    "c2 = lambda x: int(-1*x[0] + 4*x[1] <= 2)\n",
    "c3 = lambda x: int(x[0] + x[1] <= 1)\n",
    "c4 = lambda x: int(-4*x[0] + 7*x[1] <= 2)\n",
    "c = lambda x: c1(x) * c2(x) * c3(x) * c4(x)\n",
    "plot_feasible_set(c)"
   ]
  },
  {
   "cell_type": "markdown",
   "metadata": {},
   "source": [
    "By using the geometrical interpretation of simplex method, we start in $(0,0)$ and then make a step to the vertex $(0, \\frac27)$ (found by noting that we move along $x_2 = 0$ and then find the tightest constraint) where the value is $- \\frac67 \\approx -0.857$. Without precise tools, it is hard to estimate, whether the the direction to the next vertex aligns well with the general descent direction. Therefore we will do the step, then compute the function value and based on that decide on the local minimum. \n",
    "\n",
    "The next vertex is $(\\frac{5}{11}, \\frac{6}{11})$ (solved by finding the constraint intersection that that involves $(-4,7) x + z_4 = 2$ and is best aligned with the sketch) where the function value is $- \\frac{8}{11} \\approx -0.727$ which is larger than the previous one-\n",
    "\n",
    "Therefore, $(0, \\frac27)$ is a local solution.\n"
   ]
  },
  {
   "cell_type": "code",
   "execution_count": 33,
   "metadata": {},
   "outputs": [
    {
     "name": "stdout",
     "output_type": "stream",
     "text": [
      "Optimal solution: [0.         0.28571429]\n",
      "Optimal value: -0.8571428571428571\n"
     ]
    }
   ],
   "source": [
    "A = np.array([[4, 1], [-1, 4], [1, 1], [-4, 7]])\n",
    "b = np.array([4, 2, 1, 2])\n",
    "c = np.array([2, -3])\n",
    "\n",
    "x, min_value = simplex_zero(A, b, c)\n",
    "print(\"Optimal solution:\", x)\n",
    "print(\"Optimal value:\", min_value)"
   ]
  },
  {
   "cell_type": "code",
   "execution_count": 34,
   "metadata": {},
   "outputs": [
    {
     "name": "stdout",
     "output_type": "stream",
     "text": [
      "Optimal solution: [0.         0.28571429]\n",
      "Optimal value: -0.8571428571428571\n"
     ]
    }
   ],
   "source": [
    "x, min_value = find_feasible_point_simplex(A, b, c)\n",
    "print(\"Optimal solution:\", x)\n",
    "print(\"Optimal value:\", min_value)"
   ]
  },
  {
   "cell_type": "markdown",
   "metadata": {},
   "source": [
    "## 10D problems"
   ]
  },
  {
   "cell_type": "code",
   "execution_count": 36,
   "metadata": {},
   "outputs": [],
   "source": [
    "def make_problem(dim = 10):\n",
    "    # Create the linear function\n",
    "    c = np.random.randint(-5,5,size = dim)\n",
    "    # Create the contstraint LHS\n",
    "    n_constraints = np.random.randint(3, 12)\n",
    "    A = np.random.randint(-5, 9, size = (n_constraints, dim))\n",
    "    # Ensure that constraint RHS is smaller then LHS\n",
    "    b = np.sum(A, axis = 1) - 1\n",
    "    # Make sure that constrain\n",
    "    for i, b_i in enumerate(b):\n",
    "        if b_i < 0:\n",
    "            b[i] = 1\n",
    "            A[i, :] -= b_i - 1\n",
    "\n",
    "    return A, b, c\n"
   ]
  },
  {
   "cell_type": "markdown",
   "metadata": {},
   "source": [
    "### Problem 1"
   ]
  },
  {
   "cell_type": "code",
   "execution_count": 37,
   "metadata": {},
   "outputs": [
    {
     "name": "stdout",
     "output_type": "stream",
     "text": [
      "A: [[ 5  5  5  8 -4 -3 -5 -3 -4 -3]\n",
      " [ 2 -1  1 -1 -1  4  2  8  0  1]\n",
      " [ 2  8  5 -1  6  1  1 -4  2  6]\n",
      " [ 4  8  0 -4 -3  2  0  8 -4 -3]\n",
      " [-2  3 -1  5  3  4  6  6  1  6]\n",
      " [ 1 -2 -3  2  3  3  7  7  3  4]\n",
      " [-5  6  7  1  1  5 -3  7  8 -1]\n",
      " [ 4 -2  8 -5  4  3  3  8  4 -5]\n",
      " [-3  1 -5  3  2  8  1 -2 -4  6]]\n",
      "b: [ 0 14 25  7 30 24 25 21  6]\n",
      "c: [-4  2 -3  2  2 -2 -1 -1 -2  1]\n",
      "Optimal solution when starting at 0: [3.90737834 0.         0.         0.         0.         1.10361068\n",
      " 0.         0.         2.72841444 1.77080063]\n",
      "Optimal value when starting at 0: -21.522762951334386\n",
      "Optimal solution with 2-phase method: [3.90737834 0.         0.         0.         0.         1.10361068\n",
      " 0.         0.         2.72841444 1.77080063]\n",
      "Optimal value with 2-phase method: -21.522762951334382\n"
     ]
    }
   ],
   "source": [
    "A,b,c = make_problem()\n",
    "print(\"A:\",A)\n",
    "print(\"b:\",b)\n",
    "print(\"c:\",c)\n",
    "x, min_value = simplex_zero(A, b, c)\n",
    "print(\"Optimal solution when starting at 0:\", x)\n",
    "print(\"Optimal value when starting at 0:\", min_value)\n",
    "x, min_value = find_feasible_point_simplex(A, b, c)\n",
    "print(\"Optimal solution with 2-phase method:\", x)\n",
    "print(\"Optimal value with 2-phase method:\", min_value)"
   ]
  },
  {
   "cell_type": "markdown",
   "metadata": {},
   "source": [
    "### Problem 2"
   ]
  },
  {
   "cell_type": "code",
   "execution_count": 38,
   "metadata": {},
   "outputs": [
    {
     "name": "stdout",
     "output_type": "stream",
     "text": [
      "A: [[ 8  1  7 -4  1  1 -1  6 -3 -3]\n",
      " [-2  5 -2  5  0  8  2 -1  4 -5]\n",
      " [ 3 -5  0 -4  3  6 -3  5 -1 -1]\n",
      " [ 3 -2  8  3 -2  8 -1  6  7 -1]\n",
      " [ 6 -1 -2  0  6  4  4  2  5 -4]\n",
      " [-2  2  4  0  0  8 -4  3  2 -1]\n",
      " [ 6  5  8  2  0  7  0  7 -3  0]\n",
      " [ 2 -3 -4 -5  4 -5  3  6  5 -2]\n",
      " [-1  3  6  2  0  1 -4 -2  5  3]]\n",
      "b: [12 13  2 28 19 11 31  0 12]\n",
      "c: [ 3 -2 -2  4 -3 -1 -4  2 -1  1]\n",
      "Optimal solution when starting at 0: [  0.    0.    0.   15.5   0.    0.  194.5   0.    0.  253. ]\n",
      "Optimal value when starting at 0: -463.00000000000165\n",
      "Optimal solution with 2-phase method: [  0.    0.    0.   15.5   0.    0.  194.5   0.    0.  253. ]\n",
      "Optimal value with 2-phase method: -462.99999999999915\n"
     ]
    }
   ],
   "source": [
    "A,b,c = make_problem()\n",
    "print(\"A:\",A)\n",
    "print(\"b:\",b)\n",
    "print(\"c:\",c)\n",
    "x, min_value = simplex_zero(A, b, c)\n",
    "print(\"Optimal solution when starting at 0:\", x)\n",
    "print(\"Optimal value when starting at 0:\", min_value)\n",
    "x, min_value = find_feasible_point_simplex(A, b, c)\n",
    "print(\"Optimal solution with 2-phase method:\", x)\n",
    "print(\"Optimal value with 2-phase method:\", min_value)"
   ]
  },
  {
   "cell_type": "markdown",
   "metadata": {},
   "source": [
    "### Problem 3"
   ]
  },
  {
   "cell_type": "code",
   "execution_count": 39,
   "metadata": {},
   "outputs": [
    {
     "name": "stdout",
     "output_type": "stream",
     "text": [
      "A: [[-1  8  7  4  6  8  7  1 -2  0]\n",
      " [ 2  8 -2  0  0 -1 -5  0  8 -3]\n",
      " [-3  7  1 -1 -5 -4  4  3 -2  6]\n",
      " [ 8  0 -4 -3  8  1 -2  8  0  5]\n",
      " [-3  5  8  0 -4  2  6  7 -3  5]\n",
      " [-1 -2 -2  3 -1  5 -1  5  5  8]\n",
      " [ 8  2  5  7 -4 -2 -1 -2  7  8]\n",
      " [ 4  2  1 -5  4  4 -4  0  0  5]\n",
      " [ 6 -1 -1  1 -3 -3  2  6  4  0]\n",
      " [-4  5  8  1  5 -5  0  5  6  3]\n",
      " [-4  8  3  2  0  8 -5 -4  7  2]]\n",
      "b: [37  6  5 20 22 18 27 10 10 23 16]\n",
      "c: [ 1  3 -4  1  0 -1  0  2  4 -3]\n",
      "Optimal solution when starting at 0: [0.         0.         2.90788602 0.         0.81974818 0.89860835\n",
      " 0.         0.         0.         0.04373757]\n",
      "Optimal value when starting at 0: -12.661365142478463\n",
      "Optimal solution with 2-phase method: [0.         0.         2.90788602 0.         0.81974818 0.89860835\n",
      " 0.         0.         0.         0.04373757]\n",
      "Optimal value with 2-phase method: -12.661365142478463\n"
     ]
    }
   ],
   "source": [
    "A,b,c = make_problem()\n",
    "print(\"A:\",A)\n",
    "print(\"b:\",b)\n",
    "print(\"c:\",c)\n",
    "x, min_value = simplex_zero(A, b, c)\n",
    "print(\"Optimal solution when starting at 0:\", x)\n",
    "print(\"Optimal value when starting at 0:\", min_value)\n",
    "x, min_value = find_feasible_point_simplex(A, b, c)\n",
    "print(\"Optimal solution with 2-phase method:\", x)\n",
    "print(\"Optimal value with 2-phase method:\", min_value)"
   ]
  },
  {
   "cell_type": "markdown",
   "metadata": {},
   "source": [
    "### Problem 4 "
   ]
  },
  {
   "cell_type": "code",
   "execution_count": 41,
   "metadata": {},
   "outputs": [
    {
     "name": "stdout",
     "output_type": "stream",
     "text": [
      "A: [[ 1  5  6  3  2  7  8  1  8 -3]\n",
      " [-3  5  0  0  3  5  2  7  5 -1]\n",
      " [ 5  7 -5  2  5 -2  5  4  8 -2]\n",
      " [ 5  4  1 -1 -4  3  2 -2  5  5]\n",
      " [ 7  1  1  2  7  2 -1  3  8  3]\n",
      " [12 12 16 13 23 11 18 11 17 13]\n",
      " [-1 -2 -4  2  7  1  2  8 -4 -3]\n",
      " [-2 -1  7 -5  7  3 -1 -3  4  3]\n",
      " [ 0  3  0 -3 -3 -5  4  6  4  7]\n",
      " [15  5  7 13  3  8 11  3  4  5]]\n",
      "b: [37 22 26 17 32  1  5 11 12  1]\n",
      "c: [ 3  1  4 -3  1 -3 -5 -3  3  0]\n",
      "Optimal solution when starting at 0: [0.         0.         0.         0.         0.         0.\n",
      " 0.05555556 0.         0.         0.        ]\n",
      "Optimal value when starting at 0: -0.2777777777777778\n",
      "Optimal solution with 2-phase method: [0.         0.         0.         0.         0.         0.\n",
      " 0.05555556 0.         0.         0.        ]\n",
      "Optimal value with 2-phase method: -0.2777777777777778\n"
     ]
    }
   ],
   "source": [
    "A,b,c = make_problem()\n",
    "print(\"A:\",A)\n",
    "print(\"b:\",b)\n",
    "print(\"c:\",c)\n",
    "x, min_value = simplex_zero(A, b, c)\n",
    "print(\"Optimal solution when starting at 0:\", x)\n",
    "print(\"Optimal value when starting at 0:\", min_value)\n",
    "x, min_value = find_feasible_point_simplex(A, b, c)\n",
    "print(\"Optimal solution with 2-phase method:\", x)\n",
    "print(\"Optimal value with 2-phase method:\", min_value)"
   ]
  },
  {
   "cell_type": "markdown",
   "metadata": {},
   "source": [
    "### Problem 5"
   ]
  },
  {
   "cell_type": "code",
   "execution_count": 45,
   "metadata": {},
   "outputs": [
    {
     "name": "stdout",
     "output_type": "stream",
     "text": [
      "A: [[ 5  0  5  1 -3  3  7 -5 -5  2]\n",
      " [ 7  3  0 -5  8  6 -1  0  3  6]\n",
      " [ 8  2  3 -2  2 -3  3  6  6  8]\n",
      " [ 7 -4  1  3  0  3  8  4  5  7]\n",
      " [-2 11 -2  7  0  9 -1  0  0  7]\n",
      " [-5  1  5 -1 -5  4  2  5  3  7]]\n",
      "b: [ 9 26 32 33  1 15]\n",
      "c: [ 3  2  2 -2  2 -4 -4  1  1 -2]\n",
      "Optimal solution when starting at 0: [0.         0.         0.         0.         0.         0.40919674\n",
      " 2.68277066 0.6967404  1.50465658 0.        ]\n",
      "Optimal value when starting at 0: -10.166472642607681\n",
      "Optimal solution with 2-phase method: [0.         0.         0.         0.         0.         0.40919674\n",
      " 2.68277066 0.6967404  1.50465658 0.        ]\n",
      "Optimal value with 2-phase method: -10.166472642607681\n"
     ]
    }
   ],
   "source": [
    "A,b,c = make_problem()\n",
    "print(\"A:\",A)\n",
    "print(\"b:\",b)\n",
    "print(\"c:\",c)\n",
    "x, min_value = simplex_zero(A, b, c)\n",
    "print(\"Optimal solution when starting at 0:\", x)\n",
    "print(\"Optimal value when starting at 0:\", min_value)\n",
    "x, min_value = find_feasible_point_simplex(A, b, c)\n",
    "print(\"Optimal solution with 2-phase method:\", x)\n",
    "print(\"Optimal value with 2-phase method:\", min_value)"
   ]
  }
 ],
 "metadata": {
  "kernelspec": {
   "display_name": "Python 3",
   "language": "python",
   "name": "python3"
  },
  "language_info": {
   "codemirror_mode": {
    "name": "ipython",
    "version": 3
   },
   "file_extension": ".py",
   "mimetype": "text/x-python",
   "name": "python",
   "nbconvert_exporter": "python",
   "pygments_lexer": "ipython3",
   "version": "3.10.1"
  }
 },
 "nbformat": 4,
 "nbformat_minor": 2
}
