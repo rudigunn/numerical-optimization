{
 "cells": [
  {
   "cell_type": "code",
   "execution_count": 1,
   "metadata": {},
   "outputs": [
    {
     "name": "stdout",
     "output_type": "stream",
     "text": [
      "Intel MKL WARNING: Support of Intel(R) Streaming SIMD Extensions 4.2 (Intel(R) SSE4.2) enabled only processors has been deprecated. Intel oneAPI Math Kernel Library 2025.0 will require Intel(R) Advanced Vector Extensions (Intel(R) AVX) instructions.\n",
      "Intel MKL WARNING: Support of Intel(R) Streaming SIMD Extensions 4.2 (Intel(R) SSE4.2) enabled only processors has been deprecated. Intel oneAPI Math Kernel Library 2025.0 will require Intel(R) Advanced Vector Extensions (Intel(R) AVX) instructions.\n"
     ]
    }
   ],
   "source": [
    "import numpy as np"
   ]
  },
  {
   "cell_type": "code",
   "execution_count": 2,
   "metadata": {},
   "outputs": [],
   "source": [
    "solution_rosenbrock = np.array([1.0, 1.0])\n",
    "solutions_second_function = np.array([[4.0, 0.0], [0.0, 1.0]])"
   ]
  },
  {
   "cell_type": "markdown",
   "metadata": {},
   "source": [
    "## THE FLETCHER–REEVES METHOD"
   ]
  },
  {
   "cell_type": "code",
   "execution_count": 3,
   "metadata": {},
   "outputs": [],
   "source": [
    "def fr_method(f, grad_f, start_point, tol=1e-4, max_iter=1000, alpha_bar=1.0, rho=0.9, c1=0.0001, c2=0.9, min_alpha=1e-10):\n",
    "    \"\"\"\n",
    "    The Fletcher–Reeves method for unconstrained optimization.\n",
    "    \n",
    "    Args:\n",
    "    - f: Objective function to minimize.\n",
    "    - grad_f: Function to compute the gradient of the objective function.\n",
    "    - start_point: Initial guess.\n",
    "    - tol: Tolerance for convergence based on the norm of the gradient.\n",
    "    - max_iter: Maximum number of iterations.\n",
    "    - alpha_bar: Initial step size.\n",
    "    - rho: Factor to reduce step size during line search.\n",
    "    - c1: Parameter for the Armijo condition.\n",
    "    - c2: Parameter for the curvature condition.\n",
    "    - min_alpha: Minimum step size allowed during line search.\n",
    "\n",
    "    Returns:\n",
    "    - x_opt: Optimal solution.\n",
    "    - num_iterations: Number of iterations until convergence.\n",
    "    \"\"\"\n",
    "\n",
    "\n",
    "\n",
    "    x = start_point\n",
    "    grad_fk = grad_f(x)\n",
    "    p = -grad_fk\n",
    "    iterations = 0\n",
    "\n",
    "    while np.linalg.norm(grad_fk) > tol and iterations < max_iter:\n",
    "        alpha_k = alpha_bar\n",
    "\n",
    "        while f(x + alpha_k * p) > f(x) + c1 * alpha_k * (grad_f(x).T @ p):\n",
    "            alpha_k *= rho\n",
    "            if alpha_k < min_alpha:\n",
    "                break\n",
    "\n",
    "        x_new = x + alpha_k * p\n",
    "        grad_fk_new = grad_f(x_new)\n",
    "\n",
    "        beta_FR_k1 = max(grad_fk_new.T @ grad_fk_new / (grad_fk.T @ grad_fk), 0)\n",
    "            \n",
    "        p_new = -grad_fk_new + beta_FR_k1 * p\n",
    "\n",
    "        x, grad_fk, p = x_new, grad_fk_new, p_new\n",
    "        iterations += 1\n",
    "\n",
    "   \n",
    "    print(\"Gradient: \", np.linalg.norm(grad_fk))  \n",
    "    \n",
    "\n",
    "    return x, iterations"
   ]
  },
  {
   "cell_type": "markdown",
   "metadata": {},
   "source": [
    "## THE POLAK–RIBIERE METHOD"
   ]
  },
  {
   "cell_type": "code",
   "execution_count": 4,
   "metadata": {},
   "outputs": [],
   "source": [
    "def pr_method(f, grad_f, start_point, tol=1e-4, max_iter=1000, alpha_bar=1.0, rho=0.9, c1=0.1, c2=0.9, min_alpha=1e-10):\n",
    "    \"\"\"\n",
    "    The Polak-Ribiere method for unconstrained optimization.\n",
    "      \n",
    "    Args:\n",
    "    - f: Objective function to minimize.\n",
    "    - grad_f: Function to compute the gradient of the objective function.\n",
    "    - start_point: Initial guess.\n",
    "    - tol: Tolerance for convergence based on the norm of the gradient.\n",
    "    - max_iter: Maximum number of iterations.\n",
    "    - alpha_bar: Initial step size.\n",
    "    - rho: Factor to reduce step size during line search.\n",
    "    - c1: Parameter for the Armijo condition.\n",
    "    - c2: Parameter for the curvature condition.\n",
    "    - min_alpha: Minimum step size allowed during line search.\n",
    "\n",
    "    Returns:\n",
    "    - x_opt: Optimal solution.\n",
    "    - num_iterations: Number of iterations until convergence.\n",
    "    \"\"\"\n",
    "\n",
    "    \n",
    "    x = start_point\n",
    "    # fk = f(x)\n",
    "    grad_fk = grad_f(x)\n",
    "    p = -grad_fk\n",
    "    iterations = 0\n",
    "\n",
    "    while np.linalg.norm(grad_fk) > tol and iterations < max_iter:\n",
    "       \n",
    "        alpha_k = alpha_bar\n",
    "\n",
    "        while f(x + alpha_k * p) > f(x) + c1 * alpha_k * (grad_f(x).T @ p):\n",
    "            alpha_k *= rho\n",
    "            if alpha_k < min_alpha:\n",
    "                break\n",
    "\n",
    "\n",
    "        x_new = x + alpha_k * p\n",
    "        grad_fk_new = grad_f(x_new)\n",
    "\n",
    "        # beta_PR_k1 = max(grad_fk_new.T @ (grad_fk_new - grad_fk) / (grad_fk.T @ grad_fk), 0)\n",
    "        beta_PR_k1 = max(grad_fk_new.T @ (grad_fk_new - grad_fk) / ((grad_fk_new - grad_fk).T @ p), 0) #with The Hestenes–\n",
    "                                                                                                        #Stiefel formula computes better\n",
    "\n",
    "            \n",
    "        p_new = -grad_fk_new + beta_PR_k1 * p\n",
    "\n",
    "        x, grad_fk, p = x_new, grad_fk_new, p_new\n",
    "        iterations += 1\n",
    "\n",
    "    print(\"Gradient: \", np.linalg.norm(grad_fk))    \n",
    "\n",
    "    return x, iterations"
   ]
  },
  {
   "cell_type": "markdown",
   "metadata": {},
   "source": [
    "## Function 1"
   ]
  },
  {
   "cell_type": "code",
   "execution_count": 5,
   "metadata": {},
   "outputs": [],
   "source": [
    "def f(x):\n",
    "    return 100 * (x[1] - x[0]**2)**2 + (1 - x[0])**2"
   ]
  },
  {
   "cell_type": "code",
   "execution_count": 6,
   "metadata": {},
   "outputs": [],
   "source": [
    "def gradient_f(x):\n",
    "    df_dx1 = -400 * x[0] * (x[1] - x[0]**2) - 2 * (1 - x[0])  \n",
    "    df_dx2 = 200 * (x[1] - x[0]**2)  \n",
    "    return np.array([df_dx1, df_dx2])"
   ]
  },
  {
   "cell_type": "markdown",
   "metadata": {},
   "source": [
    "## Function 2\n",
    "\n"
   ]
  },
  {
   "cell_type": "code",
   "execution_count": 7,
   "metadata": {},
   "outputs": [],
   "source": [
    "def f_2(x):\n",
    "    return 150 * (x[0] * x[1])**2 + (0.5 * x[0] + 2 * x[1] - 2)**2"
   ]
  },
  {
   "cell_type": "code",
   "execution_count": 8,
   "metadata": {},
   "outputs": [],
   "source": [
    "def gradient_f_2(x):\n",
    "    df_dx1 = 300 * x[0] * x[1]**2 + (0.5 * x[0] + 2 * x[1] - 2)  \n",
    "    df_dx2 = 300 * x[0]**2 * x[1] + 4 * (0.5 * x[0] + 2 * x[1] - 2)  \n",
    "    return np.array([df_dx1, df_dx2])"
   ]
  },
  {
   "cell_type": "markdown",
   "metadata": {
    "tags": []
   },
   "source": [
    "# Runs with exact gradients"
   ]
  },
  {
   "cell_type": "markdown",
   "metadata": {
    "tags": []
   },
   "source": [
    "## Computing Function 1"
   ]
  },
  {
   "cell_type": "code",
   "execution_count": 9,
   "metadata": {},
   "outputs": [
    {
     "name": "stdout",
     "output_type": "stream",
     "text": [
      "THE FLETCHER–REEVES METHOD F1\n",
      "____________________________________________________________________________________________________\n",
      "Gradient:  8.708164523214734e-05\n",
      "Starting points: [1.2 1.2]\n",
      "Solution FR function_1: [0.99999806 0.99999632]\n",
      "Distant from solution: 4.161227003007066e-06\n",
      "Number of iterations FR function_1: 261\n",
      "----------------------------------------------------------------------------------------------------\n",
      "Gradient:  9.84009568999249e-05\n",
      "Starting points: [-1.2  1. ]\n",
      "Solution FR function_1: [1.00000021 1.00000064]\n",
      "Distant from solution: 6.690233300493315e-07\n",
      "Number of iterations FR function_1: 282\n",
      "----------------------------------------------------------------------------------------------------\n",
      "Gradient:  9.906377736311834e-05\n",
      "Starting points: [0.2 0.8]\n",
      "Solution FR function_1: [1.00008437 1.00016895]\n",
      "Distant from solution: 0.00018884552181523055\n",
      "Number of iterations FR function_1: 419\n",
      "----------------------------------------------------------------------------------------------------\n",
      "\n",
      "\n",
      "THE POLAK–RIBIERE METHOD F1\n",
      "____________________________________________________________________________________________________\n",
      "Gradient:  8.535282241824785e-05\n",
      "Starting points: [1.2 1.2]\n",
      "Solution PR function_1: [0.99999992 1.00000004]\n",
      "Distant from solution: 8.521643106050919e-08\n",
      "Number of iterations PR function_1: 85\n",
      "----------------------------------------------------------------------------------------------------\n",
      "Gradient:  9.155244415304352e-05\n",
      "Starting points: [-1.2  1. ]\n",
      "Solution PR function_1: [1.00000008 0.99999996]\n",
      "Distant from solution: 9.14061271145662e-08\n",
      "Number of iterations PR function_1: 83\n",
      "----------------------------------------------------------------------------------------------------\n",
      "Gradient:  9.092868311619459e-05\n",
      "Starting points: [0.2 0.8]\n",
      "Solution PR function_1: [1.00000008 0.99999996]\n",
      "Distant from solution: 9.078336521790784e-08\n",
      "Number of iterations PR function_1: 93\n",
      "----------------------------------------------------------------------------------------------------\n"
     ]
    }
   ],
   "source": [
    "start_points_1 = (\n",
    "    np.array([1.2, 1.2]),\n",
    "    np.array([-1.2, 1]),\n",
    "    np.array([0.2, 0.8])\n",
    ")\n",
    "\n",
    "\n",
    "# result = minimize(f_2, start_point, jac=gradient_f_2, method='CG')\n",
    "# print(\"Exact solution:\", result.x)\n",
    "\n",
    "print(\"THE FLETCHER–REEVES METHOD F1\")\n",
    "print('_' * 100)\n",
    "for start_points in start_points_1:\n",
    "    solution, num_iterations = fr_method(f, gradient_f, start_points)\n",
    "    print(\"Starting points:\", start_points)\n",
    "    print(\"Solution FR function_1:\", solution)\n",
    "    dist_to_solution = np.linalg.norm(solution - solution_rosenbrock) \n",
    "    print(\"Distant from solution:\", dist_to_solution)\n",
    "    print(\"Number of iterations FR function_1:\", num_iterations)\n",
    "\n",
    "    print('-' * 100)\n",
    "\n",
    "\n",
    "print('\\n')\n",
    "\n",
    "print(\"THE POLAK–RIBIERE METHOD F1\")\n",
    "print('_' * 100)\n",
    "for start_points in start_points_1:\n",
    "    solution, num_iterations = pr_method(f, gradient_f, start_points)\n",
    "    print(\"Starting points:\", start_points)\n",
    "    print(\"Solution PR function_1:\", solution)\n",
    "    dist_to_solution = np.linalg.norm(solution - solution_rosenbrock) \n",
    "    print(\"Distant from solution:\", dist_to_solution)\n",
    "    print(\"Number of iterations PR function_1:\", num_iterations)\n",
    "\n",
    "    print('-' * 100)\n"
   ]
  },
  {
   "cell_type": "markdown",
   "metadata": {
    "tags": []
   },
   "source": [
    "## Computing Function 2"
   ]
  },
  {
   "cell_type": "code",
   "execution_count": 10,
   "metadata": {
    "tags": []
   },
   "outputs": [
    {
     "name": "stdout",
     "output_type": "stream",
     "text": [
      "THE FLETCHER–REEVES METHOD F2\n",
      "____________________________________________________________________________________________________\n",
      "Gradient:  9.484847022594425e-05\n",
      "Starting points: [ 0.2 -1.2]\n",
      "Solution FR function_2: [-2.36525297e-07  1.00001006e+00]\n",
      "Distant from solution: 1.0061361958363637e-05\n",
      "Number of iterations FR function_2: 271\n",
      "----------------------------------------------------------------------------------------------------\n",
      "Gradient:  8.66877884433774e-05\n",
      "Starting points: [3.8 0.1]\n",
      "Solution FR function_2: [3.99994265e+00 6.83820035e-09]\n",
      "Distant from solution: 5.734527624449863e-05\n",
      "Number of iterations FR function_2: 364\n",
      "----------------------------------------------------------------------------------------------------\n",
      "Gradient:  9.552978398147783e-05\n",
      "Starting points: [1.9 0.6]\n",
      "Solution FR function_2: [-2.99070252e-07  1.00000749e+00]\n",
      "Distant from solution: 7.492965823332256e-06\n",
      "Number of iterations FR function_2: 257\n",
      "----------------------------------------------------------------------------------------------------\n",
      "\n",
      "\n",
      "THE POLAK–RIBIERE METHOD F2\n",
      "____________________________________________________________________________________________________\n",
      "Gradient:  8.791039406640775e-05\n",
      "Starting points: [ 0.2 -1.2]\n",
      "Solution PR function_2: [1.44901280e-07 1.00000804e+00]\n",
      "Distant from solution: 8.040397305507337e-06\n",
      "Number of iterations PR function_2: 68\n",
      "----------------------------------------------------------------------------------------------------\n",
      "Gradient:  8.427337013768524e-05\n",
      "Starting points: [3.8 0.1]\n",
      "Solution PR function_2: [4.00000000e+00 1.75277356e-08]\n",
      "Distant from solution: 1.7527736310192457e-08\n",
      "Number of iterations PR function_2: 96\n",
      "----------------------------------------------------------------------------------------------------\n",
      "Gradient:  8.660234152473465e-05\n",
      "Starting points: [1.9 0.6]\n",
      "Solution PR function_2: [ 4.00000000e+00 -1.80121289e-08]\n",
      "Distant from solution: 1.8012131220792235e-08\n",
      "Number of iterations PR function_2: 108\n",
      "----------------------------------------------------------------------------------------------------\n"
     ]
    }
   ],
   "source": [
    "start_points_2 = (\n",
    "    np.array([0.2, -1.2]),\n",
    "    np.array([3.8, 0.1]),\n",
    "    np.array([1.9 , 0.6])\n",
    ")\n",
    "\n",
    "print(\"THE FLETCHER–REEVES METHOD F2\")\n",
    "print('_' * 100)\n",
    "\n",
    "for start_points in start_points_2:\n",
    "    solution, num_iterations = fr_method(f_2, gradient_f_2, start_points)\n",
    "    print(\"Starting points:\", start_points)\n",
    "    print(\"Solution FR function_2:\", solution)\n",
    "    dist_to_solution = np.min(np.linalg.norm(solution - solutions_second_function, axis=1))\n",
    "    print(\"Distant from solution:\", dist_to_solution)\n",
    "    print(\"Number of iterations FR function_2:\", num_iterations)\n",
    "\n",
    "    print('-' * 100)\n",
    "\n",
    "\n",
    "print('\\n')\n",
    "\n",
    "print(\"THE POLAK–RIBIERE METHOD F2\")\n",
    "print('_' * 100)\n",
    "for start_points in start_points_2:\n",
    "    solution, num_iterations = pr_method(f_2, gradient_f_2, start_points)\n",
    "    print(\"Starting points:\", start_points)\n",
    "    print(\"Solution PR function_2:\", solution)\n",
    "    dist_to_solution = np.min(np.linalg.norm(solution - solutions_second_function, axis=1))\n",
    "    print(\"Distant from solution:\", dist_to_solution)\n",
    "    print(\"Number of iterations PR function_2:\", num_iterations)\n",
    "\n",
    "    print('-' * 100)\n",
    "\n",
    "    "
   ]
  },
  {
   "cell_type": "markdown",
   "metadata": {},
   "source": [
    "# Runs with approximated gradients"
   ]
  },
  {
   "cell_type": "code",
   "execution_count": 11,
   "metadata": {
    "tags": []
   },
   "outputs": [],
   "source": [
    "u = 1.0\n",
    "while 1.0 + u != 1.0:\n",
    "    u /= 2\n",
    "epsilon = np.sqrt(u)"
   ]
  },
  {
   "cell_type": "code",
   "execution_count": 12,
   "metadata": {
    "tags": []
   },
   "outputs": [],
   "source": [
    "def forward_difference(func: callable, x: np.ndarray, epsilon: float) -> np.ndarray:\n",
    "    \"\"\"\n",
    "    Parameters:\n",
    "    func: Function you want to approximate the derivative of\n",
    "    x: Point where at which you want the approximation of the derivative\n",
    "    epsilon: very small number typically sqrt(u), where u is unit-roundoff\n",
    "    Returns:\n",
    "    Approximation of derivative at point x\n",
    "    \"\"\"\n",
    "    dim = x.shape[0] if x.shape != () else 1\n",
    "    grad = np.zeros(dim)\n",
    "    \n",
    "    for i in range(dim):\n",
    "        e = np.zeros(dim)\n",
    "        e[i] = 1\n",
    "        grad_i = (func(x + epsilon * e) - func(x)) / epsilon\n",
    "        grad[i] = grad_i\n",
    "    \n",
    "    return grad"
   ]
  },
  {
   "cell_type": "code",
   "execution_count": 13,
   "metadata": {
    "tags": []
   },
   "outputs": [],
   "source": [
    "def approx_gradient_f(x):\n",
    "    return forward_difference(f, x, epsilon)\n",
    "def approx_gradient_f_2(x):\n",
    "    return forward_difference(f_2, x, epsilon)"
   ]
  },
  {
   "cell_type": "markdown",
   "metadata": {
    "tags": []
   },
   "source": [
    "## Function 1"
   ]
  },
  {
   "cell_type": "code",
   "execution_count": 14,
   "metadata": {
    "tags": []
   },
   "outputs": [
    {
     "name": "stdout",
     "output_type": "stream",
     "text": [
      "THE FLETCHER–REEVES METHOD F1\n",
      "____________________________________________________________________________________________________\n",
      "Gradient:  8.027064986043284e-05\n",
      "Starting points: [1.2 1.2]\n",
      "Solution FR function_1: [0.99999899 0.99999816]\n",
      "Distant from solution: 2.0992902957430258e-06\n",
      "Number of iterations FR function_1: 209\n",
      "----------------------------------------------------------------------------------------------------\n",
      "Gradient:  9.930995685736585e-05\n",
      "Starting points: [-1.2  1. ]\n",
      "Solution FR function_1: [1.00002103 1.00004237]\n",
      "Distant from solution: 4.730502065354511e-05\n",
      "Number of iterations FR function_1: 312\n",
      "----------------------------------------------------------------------------------------------------\n",
      "Gradient:  7.895310749504596e-05\n",
      "Starting points: [0.2 0.8]\n",
      "Solution FR function_1: [0.99998702 0.99997417]\n",
      "Distant from solution: 2.890703971108051e-05\n",
      "Number of iterations FR function_1: 450\n",
      "----------------------------------------------------------------------------------------------------\n",
      "\n",
      "\n",
      "THE POLAK–RIBIERE METHOD F1\n",
      "____________________________________________________________________________________________________\n",
      "Gradient:  9.421588960708853e-05\n",
      "Starting points: [1.2 1.2]\n",
      "Solution PR function_1: [1.00000024 1.00000028]\n",
      "Distant from solution: 3.723533089041512e-07\n",
      "Number of iterations PR function_1: 67\n",
      "----------------------------------------------------------------------------------------------------\n",
      "Gradient:  8.454029467209795e-05\n",
      "Starting points: [-1.2  1. ]\n",
      "Solution PR function_1: [0.99999693 0.99999404]\n",
      "Distant from solution: 6.7101846668764654e-06\n",
      "Number of iterations PR function_1: 68\n",
      "----------------------------------------------------------------------------------------------------\n",
      "Gradient:  7.426825182754908e-05\n",
      "Starting points: [0.2 0.8]\n",
      "Solution PR function_1: [0.99999898 0.99999814]\n",
      "Distant from solution: 2.122909494999657e-06\n",
      "Number of iterations PR function_1: 75\n",
      "----------------------------------------------------------------------------------------------------\n"
     ]
    }
   ],
   "source": [
    "start_points_1 = (\n",
    "    np.array([1.2, 1.2]),\n",
    "    np.array([-1.2, 1]),\n",
    "    np.array([0.2, 0.8])\n",
    ")\n",
    "\n",
    "\n",
    "# result = minimize(f_2, start_point, jac=gradient_f_2, method='CG')\n",
    "# print(\"Exact solution:\", result.x)\n",
    "\n",
    "print(\"THE FLETCHER–REEVES METHOD F1\")\n",
    "print('_' * 100)\n",
    "for start_points in start_points_1:\n",
    "    solution, num_iterations = fr_method(f, approx_gradient_f, start_points)\n",
    "    print(\"Starting points:\", start_points)\n",
    "    print(\"Solution FR function_1:\", solution)\n",
    "    dist_to_solution = np.linalg.norm(solution - solution_rosenbrock) \n",
    "    print(\"Distant from solution:\", dist_to_solution)\n",
    "    print(\"Number of iterations FR function_1:\", num_iterations)\n",
    "\n",
    "    print('-' * 100)\n",
    "\n",
    "\n",
    "print('\\n')\n",
    "\n",
    "print(\"THE POLAK–RIBIERE METHOD F1\")\n",
    "print('_' * 100)\n",
    "for start_points in start_points_1:\n",
    "    solution, num_iterations = pr_method(f, approx_gradient_f, start_points, max_iter=10000)\n",
    "    print(\"Starting points:\", start_points)\n",
    "    print(\"Solution PR function_1:\", solution)\n",
    "    dist_to_solution = np.linalg.norm(solution - solution_rosenbrock) \n",
    "    print(\"Distant from solution:\", dist_to_solution)\n",
    "    print(\"Number of iterations PR function_1:\", num_iterations)\n",
    "\n",
    "    print('-' * 100)\n"
   ]
  },
  {
   "cell_type": "markdown",
   "metadata": {},
   "source": [
    "## Function 2"
   ]
  },
  {
   "cell_type": "code",
   "execution_count": 15,
   "metadata": {
    "tags": []
   },
   "outputs": [
    {
     "name": "stdout",
     "output_type": "stream",
     "text": [
      "THE FLETCHER–REEVES METHOD F2\n",
      "____________________________________________________________________________________________________\n",
      "Gradient:  9.902823529083983e-05\n",
      "Starting points: [ 0.2 -1.2]\n",
      "Solution FR function_2: [-2.43448743e-07  9.99993582e-01]\n",
      "Distant from solution: 6.422409330802356e-06\n",
      "Number of iterations FR function_2: 346\n",
      "----------------------------------------------------------------------------------------------------\n",
      "Gradient:  9.395461451365948e-05\n",
      "Starting points: [3.8 0.1]\n",
      "Solution FR function_2: [ 3.99997299e+00 -1.33693177e-08]\n",
      "Distant from solution: 2.7013160807674228e-05\n",
      "Number of iterations FR function_2: 265\n",
      "----------------------------------------------------------------------------------------------------\n",
      "Gradient:  9.830286117411164e-05\n",
      "Starting points: [1.9 0.6]\n",
      "Solution FR function_2: [-1.95441259e-07  9.99991871e-01]\n",
      "Distant from solution: 8.131842896802817e-06\n",
      "Number of iterations FR function_2: 286\n",
      "----------------------------------------------------------------------------------------------------\n",
      "\n",
      "\n",
      "THE POLAK–RIBIERE METHOD F2\n",
      "____________________________________________________________________________________________________\n",
      "Gradient:  9.2405755867285e-05\n",
      "Starting points: [ 0.2 -1.2]\n",
      "Solution PR function_2: [2.09901353e-07 1.00000628e+00]\n",
      "Distant from solution: 6.288246182624139e-06\n",
      "Number of iterations PR function_2: 88\n",
      "----------------------------------------------------------------------------------------------------\n",
      "Gradient:  3.7605175636177826e-05\n",
      "Starting points: [3.8 0.1]\n",
      "Solution PR function_2: [ 4.00000002e+00 -1.30963124e-08]\n",
      "Distant from solution: 2.0538212155722226e-08\n",
      "Number of iterations PR function_2: 96\n",
      "----------------------------------------------------------------------------------------------------\n",
      "Gradient:  3.571577776816293e-05\n",
      "Starting points: [1.9 0.6]\n",
      "Solution PR function_2: [ 4.00000002e+00 -1.27030934e-08]\n",
      "Distant from solution: 1.9825772467069503e-08\n",
      "Number of iterations PR function_2: 99\n",
      "----------------------------------------------------------------------------------------------------\n"
     ]
    }
   ],
   "source": [
    "start_points_2 = (\n",
    "    np.array([0.2, -1.2]),\n",
    "    np.array([3.8, 0.1]),\n",
    "    np.array([1.9 , 0.6])\n",
    ")\n",
    "\n",
    "print(\"THE FLETCHER–REEVES METHOD F2\")\n",
    "print('_' * 100)\n",
    "\n",
    "for start_points in start_points_2:\n",
    "    solution, num_iterations = fr_method(f_2, approx_gradient_f_2, start_points)\n",
    "    print(\"Starting points:\", start_points)\n",
    "    print(\"Solution FR function_2:\", solution)\n",
    "    dist_to_solution = np.min(np.linalg.norm(solution - solutions_second_function, axis=1))\n",
    "    print(\"Distant from solution:\", dist_to_solution)\n",
    "    print(\"Number of iterations FR function_2:\", num_iterations)\n",
    "\n",
    "    print('-' * 100)\n",
    "\n",
    "\n",
    "print('\\n')\n",
    "\n",
    "print(\"THE POLAK–RIBIERE METHOD F2\")\n",
    "print('_' * 100)\n",
    "for start_points in start_points_2:\n",
    "    solution, num_iterations = pr_method(f_2, approx_gradient_f_2, start_points)\n",
    "    print(\"Starting points:\", start_points)\n",
    "    print(\"Solution PR function_2:\", solution)\n",
    "    dist_to_solution = np.min(np.linalg.norm(solution - solutions_second_function, axis=1))\n",
    "    print(\"Distant from solution:\", dist_to_solution)\n",
    "    print(\"Number of iterations PR function_2:\", num_iterations)\n",
    "\n",
    "    print('-' * 100)\n",
    "\n",
    "    "
   ]
  },
  {
   "cell_type": "code",
   "execution_count": null,
   "metadata": {},
   "outputs": [],
   "source": []
  }
 ],
 "metadata": {
  "kernelspec": {
   "display_name": "Python 3 (ipykernel)",
   "language": "python",
   "name": "python3"
  },
  "language_info": {
   "codemirror_mode": {
    "name": "ipython",
    "version": 3
   },
   "file_extension": ".py",
   "mimetype": "text/x-python",
   "name": "python",
   "nbconvert_exporter": "python",
   "pygments_lexer": "ipython3",
   "version": "3.9.18"
  }
 },
 "nbformat": 4,
 "nbformat_minor": 4
}
