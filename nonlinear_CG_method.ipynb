{
 "cells": [
  {
   "cell_type": "code",
   "execution_count": 24,
   "metadata": {},
   "outputs": [],
   "source": [
    "import numpy as np\n",
    "# from decimal import Decimal, getcontext\n",
    "\n",
    "# getcontext().prec = 10"
   ]
  },
  {
   "cell_type": "markdown",
   "metadata": {},
   "source": [
    "## THE FLETCHER–REEVES METHOD"
   ]
  },
  {
   "cell_type": "code",
   "execution_count": 15,
   "metadata": {},
   "outputs": [],
   "source": [
    "def fr_method(f, grad_f, start_point, tol=1e-4, max_iter=1000, alpha_bar=1.0, rho=0.9, c1=0.0001, c2=0.9, min_alpha=1e-10):\n",
    "    \"\"\"\n",
    "    The Fletcher–Reeves method for unconstrained optimization.\n",
    "    \n",
    "    Args:\n",
    "    - f: Objective function to minimize.\n",
    "    - grad_f: Function to compute the gradient of the objective function.\n",
    "    - start_point: Initial guess.\n",
    "    - tol: Tolerance for convergence based on the norm of the gradient.\n",
    "    - max_iter: Maximum number of iterations.\n",
    "    - alpha_bar: Initial step size.\n",
    "    - rho: Factor to reduce step size during line search.\n",
    "    - c1: Parameter for the Armijo condition.\n",
    "    - c2: Parameter for the curvature condition.\n",
    "    - min_alpha: Minimum step size allowed during line search.\n",
    "\n",
    "    Returns:\n",
    "    - x_opt: Optimal solution.\n",
    "    - num_iterations: Number of iterations until convergence.\n",
    "    \"\"\"\n",
    "\n",
    "\n",
    "\n",
    "    x = start_point\n",
    "    grad_fk = grad_f(x)\n",
    "    p = -grad_fk\n",
    "    iterations = 0\n",
    "\n",
    "    while np.linalg.norm(grad_fk) > tol and iterations < max_iter:\n",
    "        alpha_k = alpha_bar\n",
    "\n",
    "        while f(x + alpha_k * p) > f(x) + c1 * alpha_k * (grad_f(x).T @ p) or np.abs(grad_f(x + alpha_k * p).T @ p) > -c2 * grad_fk.T @ p:\n",
    "            alpha_k *= rho\n",
    "            if alpha_k < min_alpha:\n",
    "                break\n",
    "\n",
    "        x_new = x + alpha_k * p\n",
    "        grad_fk_new = grad_f(x_new)\n",
    "\n",
    "        beta_FR_k1 = max(grad_fk_new.T @ grad_fk_new / (grad_fk.T @ grad_fk), 0)\n",
    "            \n",
    "        p_new = -grad_fk_new + beta_FR_k1 * p\n",
    "\n",
    "        x, grad_fk, p = x_new, grad_fk_new, p_new\n",
    "        iterations += 1\n",
    "\n",
    "    return x, iterations"
   ]
  },
  {
   "cell_type": "markdown",
   "metadata": {},
   "source": [
    "## THE POLAK–RIBIERE METHOD"
   ]
  },
  {
   "cell_type": "code",
   "execution_count": 16,
   "metadata": {},
   "outputs": [],
   "source": [
    "def pr_method(f, grad_f, start_point, tol=1e-4, max_iter=1000, alpha_bar=1.0, rho=0.9, c1=0.1, c2=0.9, min_alpha=1e-10):\n",
    "    \"\"\"\n",
    "    The Polak-Ribiere method for unconstrained optimization.\n",
    "      \n",
    "    Args:\n",
    "    - f: Objective function to minimize.\n",
    "    - grad_f: Function to compute the gradient of the objective function.\n",
    "    - start_point: Initial guess.\n",
    "    - tol: Tolerance for convergence based on the norm of the gradient.\n",
    "    - max_iter: Maximum number of iterations.\n",
    "    - alpha_bar: Initial step size.\n",
    "    - rho: Factor to reduce step size during line search.\n",
    "    - c1: Parameter for the Armijo condition.\n",
    "    - c2: Parameter for the curvature condition.\n",
    "    - min_alpha: Minimum step size allowed during line search.\n",
    "\n",
    "    Returns:\n",
    "    - x_opt: Optimal solution.\n",
    "    - num_iterations: Number of iterations until convergence.\n",
    "    \"\"\"\n",
    "\n",
    "    \n",
    "    x = start_point\n",
    "    # fk = f(x)\n",
    "    grad_fk = grad_f(x)\n",
    "    p = -grad_fk\n",
    "    iterations = 0\n",
    "\n",
    "    while np.linalg.norm(grad_fk) > tol and iterations < max_iter:\n",
    "       \n",
    "        alpha_k = alpha_bar\n",
    "\n",
    "        while f(x + alpha_k * p) > f(x) + c1 * alpha_k * (grad_f(x).T @ p) or np.abs(grad_f(x + alpha_k * p).T @ p) > -c2 * grad_fk.T @ p:\n",
    "            alpha_k *= rho\n",
    "            if alpha_k < min_alpha:\n",
    "                break\n",
    "\n",
    "\n",
    "        x_new = x + alpha_k * p\n",
    "        grad_fk_new = grad_f(x_new)\n",
    "\n",
    "        # beta_PR_k1 = max(grad_fk_new.T @ (grad_fk_new - grad_fk) / (grad_fk.T @ grad_fk), 0)\n",
    "        beta_PR_k1 = max(grad_fk_new.T @ (grad_fk_new - grad_fk) / ((grad_fk_new - grad_fk).T @ p), 0) #with The Hestenes–\n",
    "                                                                                                        #Stiefel formula computes better\n",
    "\n",
    "            \n",
    "        p_new = -grad_fk_new + beta_PR_k1 * p\n",
    "\n",
    "        x, grad_fk, p = x_new, grad_fk_new, p_new\n",
    "        iterations += 1\n",
    "\n",
    "    return x, iterations"
   ]
  },
  {
   "cell_type": "markdown",
   "metadata": {},
   "source": [
    "## Function 1"
   ]
  },
  {
   "cell_type": "code",
   "execution_count": 17,
   "metadata": {},
   "outputs": [],
   "source": [
    "def f(x):\n",
    "    return 100 * (x[1] - x[0]**2)**2 + (1 - x[0])**2"
   ]
  },
  {
   "cell_type": "code",
   "execution_count": 18,
   "metadata": {},
   "outputs": [],
   "source": [
    "def gradient_f(x):\n",
    "    df_dx1 = -400 * x[0] * (x[1] - x[0]**2) - 2 * (1 - x[0])  \n",
    "    df_dx2 = 200 * (x[1] - x[0]**2)  \n",
    "    return np.array([df_dx1, df_dx2])"
   ]
  },
  {
   "cell_type": "markdown",
   "metadata": {},
   "source": [
    "## Function 2\n",
    "\n"
   ]
  },
  {
   "cell_type": "code",
   "execution_count": 19,
   "metadata": {},
   "outputs": [],
   "source": [
    "def f_2(x):\n",
    "\n",
    "    return 150 * (x[0] * x[1])**2 + (0.5 * x[0] + 2 * x[1] - 2)**2\n"
   ]
  },
  {
   "cell_type": "code",
   "execution_count": 20,
   "metadata": {},
   "outputs": [],
   "source": [
    "def gradient_f_2(x):\n",
    "    df_dx1 = 300 * (x[0] * x[1])**2 + 0.5 * (0.5 * x[0] + 2 * x[1] - 2)  # По x1\n",
    "    df_dx2 = 300 * (x[0] * x[1])**2 + 2 * (0.5 * x[0] + 2 * x[1] - 2)  # По x2\n",
    "    return np.array([df_dx1, df_dx2])"
   ]
  },
  {
   "cell_type": "markdown",
   "metadata": {},
   "source": [
    "## Computing Function 1"
   ]
  },
  {
   "cell_type": "code",
   "execution_count": 23,
   "metadata": {},
   "outputs": [
    {
     "name": "stdout",
     "output_type": "stream",
     "text": [
      "THE FLETCHER–REEVES METHOD F1\n",
      "____________________________________________________________________________________________________\n",
      "Starting points: [1.2 1.2]\n",
      "Solution FR function_1: [0.99999404 0.99998828]\n",
      "Number of iterations FR function_1: 117\n",
      "----------------------------------------------------------------------------------------------------\n",
      "Starting points: [-1.2  1. ]\n",
      "Solution FR function_1: [0.99998931 0.99997839]\n",
      "Number of iterations FR function_1: 126\n",
      "----------------------------------------------------------------------------------------------------\n",
      "Starting points: [0.2 0.8]\n",
      "Solution FR function_1: [0.99995101 0.99990197]\n",
      "Number of iterations FR function_1: 263\n",
      "----------------------------------------------------------------------------------------------------\n",
      "\n",
      "\n",
      "THE POLAK–RIBIERE METHOD F1\n",
      "____________________________________________________________________________________________________\n",
      "Starting points: [1.2 1.2]\n",
      "Solution PR function_1: [1.00000008 0.99999996]\n",
      "Number of iterations PR function_1: 75\n",
      "----------------------------------------------------------------------------------------------------\n",
      "Starting points: [-1.2  1. ]\n",
      "Solution PR function_1: [1.00000007 0.99999996]\n",
      "Number of iterations PR function_1: 84\n",
      "----------------------------------------------------------------------------------------------------\n",
      "Starting points: [0.2 0.8]\n",
      "Solution PR function_1: [1.00000009 0.99999996]\n",
      "Number of iterations PR function_1: 89\n",
      "----------------------------------------------------------------------------------------------------\n"
     ]
    }
   ],
   "source": [
    "start_points_1 = (\n",
    "    np.array([1.2, 1.2]),\n",
    "    np.array([-1.2, 1]),\n",
    "    np.array([0.2, 0.8])\n",
    ")\n",
    "\n",
    "\n",
    "# result = minimize(f_2, start_point, jac=gradient_f_2, method='CG')\n",
    "# print(\"Exact solution:\", result.x)\n",
    "\n",
    "print(\"THE FLETCHER–REEVES METHOD F1\")\n",
    "print('_' * 100)\n",
    "for start_points in start_points_1:\n",
    "    solution, num_iterations = fr_method(f, gradient_f, start_points)\n",
    "    print(\"Starting points:\", start_points)\n",
    "    print(\"Solution FR function_1:\", solution)\n",
    "    print(\"Number of iterations FR function_1:\", num_iterations)\n",
    "\n",
    "    print('-' * 100)\n",
    "\n",
    "\n",
    "print('\\n')\n",
    "\n",
    "print(\"THE POLAK–RIBIERE METHOD F1\")\n",
    "print('_' * 100)\n",
    "for start_points in start_points_1:\n",
    "    solution, num_iterations = pr_method(f, gradient_f, start_points)\n",
    "    print(\"Starting points:\", start_points)\n",
    "    print(\"Solution PR function_1:\", solution)\n",
    "    print(\"Number of iterations PR function_1:\", num_iterations)\n",
    "\n",
    "    print('-' * 100)\n"
   ]
  },
  {
   "cell_type": "markdown",
   "metadata": {},
   "source": [
    "## Computing Function 2\n",
    "\n",
    "Have some trobles with function 2: \n",
    "- it does strange steps\n",
    "- it take all iterations both in FR and PR methods"
   ]
  },
  {
   "cell_type": "code",
   "execution_count": 22,
   "metadata": {},
   "outputs": [
    {
     "name": "stdout",
     "output_type": "stream",
     "text": [
      "THE FLETCHER–REEVES METHOD F2\n",
      "____________________________________________________________________________________________________\n",
      "Starting points: [ 0.2 -1.2]\n",
      "Solution FR function_2: [-3.28722499  0.03076993]\n",
      "Number of iterations FR function_2: 1000\n",
      "----------------------------------------------------------------------------------------------------\n",
      "Starting points: [3.8 0.1]\n",
      "Solution FR function_2: [ 3.6176774  -0.08292297]\n",
      "Number of iterations FR function_2: 1000\n",
      "----------------------------------------------------------------------------------------------------\n",
      "Starting points: [1.9 0.6]\n",
      "Solution FR function_2: [-0.33725805 -1.6381499 ]\n",
      "Number of iterations FR function_2: 1000\n",
      "----------------------------------------------------------------------------------------------------\n",
      "\n",
      "\n",
      "THE POLAK–RIBIERE METHOD F2\n",
      "____________________________________________________________________________________________________\n",
      "Starting points: [ 0.2 -1.2]\n",
      "Solution PR function_2: [-1.89001137  0.04303955]\n",
      "Number of iterations PR function_2: 1000\n",
      "----------------------------------------------------------------------------------------------------\n",
      "Starting points: [3.8 0.1]\n",
      "Solution PR function_2: [ 3.61894694 -0.08167919]\n",
      "Number of iterations PR function_2: 1000\n",
      "----------------------------------------------------------------------------------------------------\n",
      "Starting points: [1.9 0.6]\n",
      "Solution PR function_2: [-2.81577979  0.03882434]\n",
      "Number of iterations PR function_2: 1000\n",
      "----------------------------------------------------------------------------------------------------\n"
     ]
    }
   ],
   "source": [
    "start_points_2 = (\n",
    "    np.array([0.2, -1.2]),\n",
    "    np.array([3.8, 0.1]),\n",
    "    np.array([1.9 , 0.6])\n",
    ")\n",
    "\n",
    "print(\"THE FLETCHER–REEVES METHOD F2\")\n",
    "print('_' * 100)\n",
    "\n",
    "for start_points in start_points_2:\n",
    "    solution, num_iterations = fr_method(f_2, gradient_f_2, start_points)\n",
    "    print(\"Starting points:\", start_points)\n",
    "    print(\"Solution FR function_2:\", solution)\n",
    "    print(\"Number of iterations FR function_2:\", num_iterations)\n",
    "\n",
    "    print('-' * 100)\n",
    "\n",
    "\n",
    "print('\\n')\n",
    "\n",
    "print(\"THE POLAK–RIBIERE METHOD F2\")\n",
    "print('_' * 100)\n",
    "for start_points in start_points_2:\n",
    "    solution, num_iterations = pr_method(f_2, gradient_f_2, start_points)\n",
    "    print(\"Starting points:\", start_points)\n",
    "    print(\"Solution PR function_2:\", solution)\n",
    "    print(\"Number of iterations PR function_2:\", num_iterations)\n",
    "\n",
    "    print('-' * 100)\n",
    "\n",
    "    "
   ]
  }
 ],
 "metadata": {
  "kernelspec": {
   "display_name": "Python 3",
   "language": "python",
   "name": "python3"
  },
  "language_info": {
   "codemirror_mode": {
    "name": "ipython",
    "version": 3
   },
   "file_extension": ".py",
   "mimetype": "text/x-python",
   "name": "python",
   "nbconvert_exporter": "python",
   "pygments_lexer": "ipython3",
   "version": "3.11.9"
  }
 },
 "nbformat": 4,
 "nbformat_minor": 2
}
